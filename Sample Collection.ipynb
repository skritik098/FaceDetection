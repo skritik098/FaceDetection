{
 "cells": [
  {
   "cell_type": "markdown",
   "metadata": {},
   "source": [
    "### Face Extraction and Sampling (for single face only)"
   ]
  },
  {
   "cell_type": "code",
   "execution_count": 1,
   "metadata": {
    "collapsed": true
   },
   "outputs": [],
   "source": [
    "import cv2\n",
    "import face_recognition as fr\n",
    "import dlib\n",
    "import matplotlib.pyplot as plt\n",
    "import numpy as np\n",
    "%matplotlib inline"
   ]
  },
  {
   "cell_type": "code",
   "execution_count": 2,
   "metadata": {
    "collapsed": true
   },
   "outputs": [],
   "source": [
    "def FaceExtractor(img):\n",
    "    gray = cv2.cvtColor(img,cv2.COLOR_BGR2GRAY)\n",
    "    faces = fr.face_locations(gray,model='hog')\n",
    "    #f = []\n",
    "    for (x,y,w,h) in faces:\n",
    "        (p,q,r,s)=(x,y,w,h)\n",
    "        cropFace = gray[p:r,s:q]\n",
    "        #faces.append(cropFace)\n",
    "        #img = cv2.rectangle(img,(q,p),(s,r),(0,0,0),5)\n",
    "        return cropFace"
   ]
  },
  {
   "cell_type": "code",
   "execution_count": null,
   "metadata": {
    "collapsed": true
   },
   "outputs": [],
   "source": [
    "## Collecting Samples For Face\n",
    "import cv2\n",
    "import face_recognition as fr\n",
    "import numpy as np\n",
    "\n",
    "cap = cv2.VideoCapture(0)\n",
    "cnt = 0\n",
    "while True:\n",
    "    ret, img = cap.read()\n",
    "    cnt += 1\n",
    "    #faces = fr.face_locations(img)\n",
    "    fq = FaceExtractor(img)\n",
    "    cv2.imshow('Hi',fq)\n",
    "    data_path = '/Users/kritiksachdeva/MyProject/FaceDetection/FRFaces/'\n",
    "    cv2.imwrite(data_path+str(cnt)+'.jpg',fq)\n",
    "    if cnt == 10 or cv2.waitKey(1) == 13:\n",
    "        break\n",
    "cap.release()\n",
    "cv2.destroyAllWindows()\n",
    "print(\"Sample Collection is completed\")"
   ]
  }
 ],
 "metadata": {
  "kernelspec": {
   "display_name": "Python 2",
   "language": "python",
   "name": "python2"
  },
  "language_info": {
   "codemirror_mode": {
    "name": "ipython",
    "version": 2
   },
   "file_extension": ".py",
   "mimetype": "text/x-python",
   "name": "python",
   "nbconvert_exporter": "python",
   "pygments_lexer": "ipython2",
   "version": "2.7.13"
  }
 },
 "nbformat": 4,
 "nbformat_minor": 2
}
