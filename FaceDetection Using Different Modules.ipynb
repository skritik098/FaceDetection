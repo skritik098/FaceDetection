{
 "cells": [
  {
   "cell_type": "markdown",
   "metadata": {},
   "source": [
    "### Single Face Detector...."
   ]
  },
  {
   "cell_type": "code",
   "execution_count": 1,
   "metadata": {
    "collapsed": true
   },
   "outputs": [],
   "source": [
    "import cv2\n",
    "import face_recognition as fr\n",
    "import dlib\n",
    "import matplotlib.pyplot as plt\n",
    "import numpy as np\n",
    "%matplotlib inline"
   ]
  },
  {
   "cell_type": "code",
   "execution_count": 20,
   "metadata": {},
   "outputs": [],
   "source": [
    "def FaceDetector(img):\n",
    "    gray = cv2.cvtColor(img,cv2.COLOR_BGR2GRAY)\n",
    "    faces = fr.face_locations(gray,model='hog')\n",
    "    for (x,y,w,h) in faces:\n",
    "        (p,q,r,s)=(x,y,w,h)\n",
    "        #cropFace = gray[p:r,s:q]\n",
    "        img = cv2.rectangle(img,(q,p),(s,r),(0,0,0),5)\n",
    "    return img"
   ]
  },
  {
   "cell_type": "code",
   "execution_count": 3,
   "metadata": {},
   "outputs": [],
   "source": [
    "import cv2\n",
    "import numpy as np\n",
    "\n",
    "cap = cv2.VideoCapture(0)\n",
    "while True:\n",
    "    ret, image = cap.read()\n",
    "    faces = FaceDetector(image)\n",
    "    #if faces is None:\n",
    "    cv2.imshow('Hi',faces)\n",
    "    if cv2.waitKey(1) == 13:\n",
    "        break\n",
    "cap.release()\n",
    "cv2.destroyAllWindows()"
   ]
  },
  {
   "cell_type": "markdown",
   "metadata": {},
   "source": [
    "### Multi-Face Detector...."
   ]
  },
  {
   "cell_type": "code",
   "execution_count": 10,
   "metadata": {
    "collapsed": true
   },
   "outputs": [],
   "source": [
    "def MultiFaceDetector(img):\n",
    "    gray = cv2.cvtColor(img, cv2.COLOR_BGR2GRAY)\n",
    "    faces = fr.face_locations(gray,model='hog')\n",
    "    for (x,y,w,h) in faces:\n",
    "        (p,q,r,s) = (x,y,w,h)\n",
    "        pic = cv2.rectangle(pic,(q,p),(s,r),(0,255,0),2)\n",
    "        #print(data)\n",
    "        fa.append(data)"
   ]
  },
  {
   "cell_type": "code",
   "execution_count": 11,
   "metadata": {},
   "outputs": [],
   "source": [
    "faces = fr.face_locations(pic)\n",
    "fa = []\n",
    "for (x,y,w,h) in faces:\n",
    "    (p,q,r,s) = (x,y,w,h)\n",
    "    #pic = cv2.rectangle(pic,(q,p),(s,r),(0,255,0),2)\n",
    "    cropFace = pic[p:r,s:q]\n",
    "    data = cropFace\n",
    "    #print(data)\n",
    "    fa.append(data)"
   ]
  },
  {
   "cell_type": "code",
   "execution_count": 12,
   "metadata": {},
   "outputs": [],
   "source": [
    "Traning, Labels = [], []\n",
    "\n",
    "for i,files in enumerate(fa):\n",
    "    Traning.append(files)\n",
    "    Labels.append(i)"
   ]
  },
  {
   "cell_type": "code",
   "execution_count": null,
   "metadata": {
    "collapsed": true
   },
   "outputs": [],
   "source": []
  },
  {
   "cell_type": "code",
   "execution_count": null,
   "metadata": {
    "collapsed": true
   },
   "outputs": [],
   "source": []
  }
 ],
 "metadata": {
  "kernelspec": {
   "display_name": "Python 2",
   "language": "python",
   "name": "python2"
  },
  "language_info": {
   "codemirror_mode": {
    "name": "ipython",
    "version": 2
   },
   "file_extension": ".py",
   "mimetype": "text/x-python",
   "name": "python",
   "nbconvert_exporter": "python",
   "pygments_lexer": "ipython2",
   "version": "2.7.13"
  }
 },
 "nbformat": 4,
 "nbformat_minor": 2
}
